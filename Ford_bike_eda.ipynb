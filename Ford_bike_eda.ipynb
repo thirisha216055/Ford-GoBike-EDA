{
  "nbformat": 4,
  "nbformat_minor": 0,
  "metadata": {
    "colab": {
      "private_outputs": true,
      "provenance": [],
      "collapsed_sections": [
        "FJNUwmbgGyua",
        "w6K7xa23Elo4",
        "yQaldy8SH6Dl",
        "PH-0ReGfmX4f",
        "mDgbUHAGgjLW",
        "O_i_v8NEhb9l",
        "HhfV-JJviCcP",
        "Y3lxredqlCYt",
        "3RnN4peoiCZX",
        "x71ZqKXriCWQ",
        "7hBIi_osiCS2",
        "JlHwYmJAmNHm",
        "35m5QtbWiB9F",
        "PoPl-ycgm1ru",
        "H0kj-8xxnORC",
        "nA9Y7ga8ng1Z",
        "PBTbrJXOngz2",
        "u3PMJOP6ngxN",
        "dauF4eBmngu3",
        "bKJF3rekwFvQ",
        "MSa1f5Uengrz",
        "GF8Ens_Soomf",
        "0wOQAZs5pc--",
        "K5QZ13OEpz2H",
        "lQ7QKXXCp7Bj",
        "448CDAPjqfQr",
        "KSlN3yHqYklG",
        "t6dVpIINYklI",
        "ijmpgYnKYklI",
        "-JiQyfWJYklI",
        "EM7whBJCYoAo",
        "fge-S5ZAYoAp",
        "85gYPyotYoAp",
        "RoGjAbkUYoAp",
        "4Of9eVA-YrdM",
        "iky9q4vBYrdO",
        "F6T5p64dYrdO",
        "y-Ehk30pYrdP",
        "bamQiAODYuh1",
        "QHF8YVU7Yuh3",
        "GwzvFGzlYuh3",
        "qYpmQ266Yuh3",
        "OH-pJp9IphqM",
        "bbFf2-_FphqN",
        "_ouA3fa0phqN",
        "Seke61FWphqN",
        "PIIx-8_IphqN",
        "t27r6nlMphqO",
        "r2jJGEOYphqO",
        "b0JNsNcRphqO",
        "BZR9WyysphqO",
        "jj7wYXLtphqO",
        "eZrbJ2SmphqO",
        "rFu4xreNphqO",
        "YJ55k-q6phqO",
        "gCFgpxoyphqP",
        "OVtJsKN_phqQ",
        "lssrdh5qphqQ",
        "U2RJ9gkRphqQ",
        "1M8mcRywphqQ",
        "tgIPom80phqQ",
        "JMzcOPDDphqR",
        "x-EpHcCOp1ci",
        "X_VqEhTip1ck",
        "8zGJKyg5p1ck",
        "PVzmfK_Ep1ck",
        "n3dbpmDWp1ck",
        "ylSl6qgtp1ck",
        "ZWILFDl5p1ck",
        "M7G43BXep1ck",
        "Ag9LCva-p1cl",
        "E6MkPsBcp1cl",
        "2cELzS2fp1cl",
        "3MPXvC8up1cl",
        "NC_X3p0fY2L0",
        "UV0SzAkaZNRQ",
        "YPEH6qLeZNRQ",
        "q29F0dvdveiT",
        "EXh0U9oCveiU",
        "22aHeOlLveiV",
        "JcMwzZxoAimU",
        "8G2x9gOozGDZ",
        "gCX9965dhzqZ",
        "gIfDvo9L0UH2"
      ],
      "include_colab_link": true
    },
    "kernelspec": {
      "name": "python3",
      "display_name": "Python 3"
    },
    "language_info": {
      "name": "python"
    }
  },
  "cells": [
    {
      "cell_type": "markdown",
      "metadata": {
        "id": "view-in-github",
        "colab_type": "text"
      },
      "source": [
        "<a href=\"https://colab.research.google.com/github/thirisha216055/Ford-GoBike-EDA/blob/main/Ford_bike_eda.ipynb\" target=\"_parent\"><img src=\"https://colab.research.google.com/assets/colab-badge.svg\" alt=\"Open In Colab\"/></a>"
      ]
    },
    {
      "cell_type": "markdown",
      "source": [
        "# **Project Name**    -\n",
        "\n"
      ],
      "metadata": {
        "id": "vncDsAP0Gaoa"
      }
    },
    {
      "cell_type": "markdown",
      "source": [
        "##### **Project Type**    - EDA\n",
        "##### **Contribution**    - Individual\n",
        "##### **Team Member 1 -**Thirisha B\n"
      ],
      "metadata": {
        "id": "beRrZCGUAJYm"
      }
    },
    {
      "cell_type": "markdown",
      "source": [
        "# **Project Summary -**"
      ],
      "metadata": {
        "id": "FJNUwmbgGyua"
      }
    },
    {
      "cell_type": "markdown",
      "source": [
        "The objective of this project was to perform an exploratory data analysis (EDA) on the Ford GoBike dataset to understand user behavior, trip durations, and seasonal trends. After cleaning the data and engineering new features like month, weekday, and hour, we analyzed patterns across various dimensions. We found that the average trip duration is around 12.5 minutes, with customers (casual riders) generally taking longer trips than subscribers (commuters). Most trips occur during weekday commuting hours (morning and evening).\n",
        "\n",
        "Interestingly, trip duration showed only minor variations across different months, suggesting that seasonality has a limited impact on trip behavior. The findings highlight clear differences between user types, offering business opportunities to target marketing strategies towards converting casual customers into long-term subscribers and optimizing service during peak commuting times."
      ],
      "metadata": {
        "id": "F6v_1wHtG2nS"
      }
    },
    {
      "cell_type": "markdown",
      "source": [
        "# **GitHub Link -**"
      ],
      "metadata": {
        "id": "w6K7xa23Elo4"
      }
    },
    {
      "cell_type": "markdown",
      "source": [
        "Provide your GitHub Link here."
      ],
      "metadata": {
        "id": "h1o69JH3Eqqn"
      }
    },
    {
      "cell_type": "markdown",
      "source": [
        "# **Problem Statement**\n"
      ],
      "metadata": {
        "id": "yQaldy8SH6Dl"
      }
    },
    {
      "cell_type": "markdown",
      "source": [
        "The goal of this project is to analyze the Ford GoBike trip data to uncover insights about user behavior, trip durations, and usage patterns. Specifically, we aim to determine how trip duration varies across different user types (Subscribers vs Customers), time periods (hours, weekdays, months), and whether seasonal trends significantly affect trip behavior. By answering these questions through Exploratory Data Analysis (EDA), we can help the company optimize service operations, improve marketing strategies, and enhance user engagement."
      ],
      "metadata": {
        "id": "DpeJGUA3kjGy"
      }
    },
    {
      "cell_type": "markdown",
      "source": [
        "#### **Define Your Business Objective?**"
      ],
      "metadata": {
        "id": "PH-0ReGfmX4f"
      }
    },
    {
      "cell_type": "markdown",
      "source": [
        "The business objective is to leverage insights from the Ford GoBike trip data to improve customer retention, optimize bike availability during peak hours, and design targeted marketing strategies that encourage casual customers to become long-term subscribers, ultimately boosting ridership and revenue."
      ],
      "metadata": {
        "id": "PhDvGCAqmjP1"
      }
    },
    {
      "cell_type": "markdown",
      "source": [
        "# **General Guidelines** : -  "
      ],
      "metadata": {
        "id": "mDgbUHAGgjLW"
      }
    },
    {
      "cell_type": "markdown",
      "source": [
        "1.   Well-structured, formatted, and commented code is required.\n",
        "2.   Exception Handling, Production Grade Code & Deployment Ready Code will be a plus. Those students will be awarded some additional credits.\n",
        "     \n",
        "     The additional credits will have advantages over other students during Star Student selection.\n",
        "       \n",
        "             [ Note: - Deployment Ready Code is defined as, the whole .ipynb notebook should be executable in one go\n",
        "                       without a single error logged. ]\n",
        "\n",
        "3.   Each and every logic should have proper comments.\n",
        "4. You may add as many number of charts you want. Make Sure for each and every chart the following format should be answered.\n",
        "        \n",
        "\n",
        "```\n",
        "# Chart visualization code\n",
        "```\n",
        "            \n",
        "\n",
        "*   Why did you pick the specific chart?\n",
        "*   What is/are the insight(s) found from the chart?\n",
        "* Will the gained insights help creating a positive business impact?\n",
        "Are there any insights that lead to negative growth? Justify with specific reason.\n",
        "\n",
        "5. You have to create at least 20 logical & meaningful charts having important insights.\n",
        "\n",
        "\n",
        "[ Hints : - Do the Vizualization in  a structured way while following \"UBM\" Rule.\n",
        "\n",
        "U - Univariate Analysis,\n",
        "\n",
        "B - Bivariate Analysis (Numerical - Categorical, Numerical - Numerical, Categorical - Categorical)\n",
        "\n",
        "M - Multivariate Analysis\n",
        " ]\n",
        "\n",
        "\n",
        "\n"
      ],
      "metadata": {
        "id": "ZrxVaUj-hHfC"
      }
    },
    {
      "cell_type": "markdown",
      "source": [
        "# ***Let's Begin !***"
      ],
      "metadata": {
        "id": "O_i_v8NEhb9l"
      }
    },
    {
      "cell_type": "markdown",
      "source": [
        "## ***1. Know Your Data***"
      ],
      "metadata": {
        "id": "HhfV-JJviCcP"
      }
    },
    {
      "cell_type": "markdown",
      "source": [
        "### Import Libraries"
      ],
      "metadata": {
        "id": "Y3lxredqlCYt"
      }
    },
    {
      "cell_type": "code",
      "source": [
        "# Import Libraries\n",
        "# 1. Import libraries\n",
        "import pandas as pd\n",
        "import numpy as np\n",
        "import matplotlib.pyplot as plt\n",
        "import seaborn as sns\n",
        "import warnings\n",
        "warnings.filterwarnings('ignore')\n"
      ],
      "metadata": {
        "id": "M8Vqi-pPk-HR"
      },
      "execution_count": null,
      "outputs": []
    },
    {
      "cell_type": "markdown",
      "source": [
        "### Dataset Loading"
      ],
      "metadata": {
        "id": "3RnN4peoiCZX"
      }
    },
    {
      "cell_type": "code",
      "source": [
        "# Load Dataset\n",
        "# 2. Load the dataset\n",
        "df = pd.read_csv('201801-fordgobike-tripdata.csv')\n"
      ],
      "metadata": {
        "id": "4CkvbW_SlZ_R"
      },
      "execution_count": null,
      "outputs": []
    },
    {
      "cell_type": "markdown",
      "source": [
        "### Dataset First View"
      ],
      "metadata": {
        "id": "x71ZqKXriCWQ"
      }
    },
    {
      "cell_type": "markdown",
      "source": [
        "### Dataset Rows & Columns count"
      ],
      "metadata": {
        "id": "7hBIi_osiCS2"
      }
    },
    {
      "cell_type": "code",
      "source": [
        "# Dataset Rows & Columns count\n",
        "\n",
        "print(df.shape)\n",
        "print(df.info())\n",
        "print(df.describe())\n",
        "df.head()\n"
      ],
      "metadata": {
        "id": "Kllu7SJgmLij"
      },
      "execution_count": null,
      "outputs": []
    },
    {
      "cell_type": "markdown",
      "source": [
        "### Dataset Information"
      ],
      "metadata": {
        "id": "JlHwYmJAmNHm"
      }
    },
    {
      "cell_type": "code",
      "source": [
        "# Dataset Info\n",
        "print(df.shape)"
      ],
      "metadata": {
        "id": "e9hRXRi6meOf"
      },
      "execution_count": null,
      "outputs": []
    },
    {
      "cell_type": "markdown",
      "source": [
        "#### Duplicate Values"
      ],
      "metadata": {
        "id": "35m5QtbWiB9F"
      }
    },
    {
      "cell_type": "code",
      "source": [
        "# Dataset Duplicate Value Count\n",
        "# Checking for duplicate rows\n",
        "duplicate_rows = df.duplicated().sum()\n",
        "print(f\"✅ Number of duplicate rows in the dataset: {duplicate_rows}\")\n",
        "# Display duplicate rows\n",
        "duplicates = df[df.duplicated()]\n",
        "duplicates\n"
      ],
      "metadata": {
        "id": "1sLdpKYkmox0"
      },
      "execution_count": null,
      "outputs": []
    },
    {
      "cell_type": "markdown",
      "source": [
        "#### Missing Values/Null Values"
      ],
      "metadata": {
        "id": "PoPl-ycgm1ru"
      }
    },
    {
      "cell_type": "code",
      "source": [
        "# Missing Values/Null Values Count\n",
        "import pandas as pd\n",
        "\n",
        "# Load your dataset (replace with the actual file path)\n",
        "data = pd.read_csv('201801-fordgobike-tripdata.csv')\n",
        "\n",
        "# Check for missing/null values\n",
        "missing_values = data.isnull().sum()\n",
        "\n",
        "# Display the count of missing/null values per column\n",
        "print(\"Missing Values Count per Column:\")\n",
        "print(missing_values)\n"
      ],
      "metadata": {
        "id": "GgHWkxvamxVg"
      },
      "execution_count": null,
      "outputs": []
    },
    {
      "cell_type": "code",
      "source": [
        "# Visualizing the missing values\n",
        "import pandas as pd\n",
        "import seaborn as sns\n",
        "import matplotlib.pyplot as plt\n",
        "\n",
        "# Load your dataset\n",
        "data = pd.read_csv('201801-fordgobike-tripdata.csv')\n",
        "\n",
        "# Plotting missing values using a heatmap\n",
        "plt.figure(figsize=(10, 6))\n",
        "sns.heatmap(data.isnull(), cbar=False, cmap='viridis', yticklabels=False)\n",
        "\n",
        "# Display the plot\n",
        "plt.title('Missing Values Heatmap')\n",
        "plt.show()\n"
      ],
      "metadata": {
        "id": "3q5wnI3om9sJ"
      },
      "execution_count": null,
      "outputs": []
    },
    {
      "cell_type": "markdown",
      "source": [
        "### What did you know about your dataset?"
      ],
      "metadata": {
        "id": "H0kj-8xxnORC"
      }
    },
    {
      "cell_type": "markdown",
      "source": [
        "Answer Here"
      ],
      "metadata": {
        "id": "gfoNAAC-nUe_"
      }
    },
    {
      "cell_type": "markdown",
      "source": [
        "## ***2. Understanding Your Variables***"
      ],
      "metadata": {
        "id": "nA9Y7ga8ng1Z"
      }
    },
    {
      "cell_type": "code",
      "source": [
        "# Dataset Columns\n",
        "print(df.columns)"
      ],
      "metadata": {
        "id": "j7xfkqrt5Ag5"
      },
      "execution_count": null,
      "outputs": []
    },
    {
      "cell_type": "code",
      "source": [
        "# Dataset Describe\n",
        "print(df.describe())"
      ],
      "metadata": {
        "id": "DnOaZdaE5Q5t"
      },
      "execution_count": null,
      "outputs": []
    },
    {
      "cell_type": "markdown",
      "source": [
        "### Variables Description"
      ],
      "metadata": {
        "id": "PBTbrJXOngz2"
      }
    },
    {
      "cell_type": "markdown",
      "source": [
        "Answer Here"
      ],
      "metadata": {
        "id": "aJV4KIxSnxay"
      }
    },
    {
      "cell_type": "markdown",
      "source": [
        "### Check Unique Values for each variable."
      ],
      "metadata": {
        "id": "u3PMJOP6ngxN"
      }
    },
    {
      "cell_type": "code",
      "source": [
        "# Check Unique Values for each variable.\n",
        "import pandas as pd\n",
        "\n",
        "# Load the dataset (if not already loaded)\n",
        "df = pd.read_csv('201801-fordgobike-tripdata.csv')\n",
        "\n",
        "# Check unique values per column\n",
        "unique_counts = df.nunique()\n",
        "\n",
        "# Display\n",
        "print(unique_counts)\n"
      ],
      "metadata": {
        "id": "zms12Yq5n-jE"
      },
      "execution_count": null,
      "outputs": []
    },
    {
      "cell_type": "markdown",
      "source": [
        "## 3. ***Data Wrangling***"
      ],
      "metadata": {
        "id": "dauF4eBmngu3"
      }
    },
    {
      "cell_type": "markdown",
      "source": [
        "### Data Wrangling Code"
      ],
      "metadata": {
        "id": "bKJF3rekwFvQ"
      }
    },
    {
      "cell_type": "code",
      "source": [
        "# Write your code to make your dataset analysis ready.\n",
        "# 4. Cleaning Data\n",
        "# Convert start_time and end_time to datetime\n",
        "df['start_time'] = pd.to_datetime(df['start_time'])\n",
        "df['end_time'] = pd.to_datetime(df['end_time'])\n",
        "\n",
        "# Extract new features\n",
        "df['month'] = df['start_time'].dt.month\n",
        "df['weekday'] = df['start_time'].dt.day_name()\n",
        "df['hour'] = df['start_time'].dt.hour\n",
        "\n",
        "# Drop missing values in important columns\n",
        "df = df.dropna(subset=['member_birth_year', 'member_gender'])\n",
        "\n",
        "# Remove extreme trip durations (> 50000 seconds)\n",
        "df = df[df['duration_sec'] < 50000]"
      ],
      "metadata": {
        "id": "wk-9a2fpoLcV"
      },
      "execution_count": null,
      "outputs": []
    },
    {
      "cell_type": "markdown",
      "source": [
        "Distribution of trip duration"
      ],
      "metadata": {
        "id": "jtMzCdM98Nud"
      }
    },
    {
      "cell_type": "code",
      "source": [
        "# 5.1 Distribution of Trip Duration\n",
        "plt.figure(figsize=(10,6))\n",
        "sns.histplot(df['duration_sec']/60, bins=100, kde=True)  # minutes\n",
        "plt.title('Distribution of Trip Duration (minutes)')\n",
        "plt.xlabel('Duration (minutes)')\n",
        "plt.ylabel('Count')\n",
        "plt.show()\n"
      ],
      "metadata": {
        "id": "OqQyQwjX8Mya"
      },
      "execution_count": null,
      "outputs": []
    },
    {
      "cell_type": "markdown",
      "source": [
        "User Type Distribution"
      ],
      "metadata": {
        "id": "mqDZLQC98VG1"
      }
    },
    {
      "cell_type": "code",
      "source": [
        "# 5.2 User Type Distribution\n",
        "plt.figure(figsize=(6,4))\n",
        "sns.countplot(data=df, x='user_type')\n",
        "plt.title('User Type Distribution')\n",
        "plt.xlabel('User Type')\n",
        "plt.ylabel('Count')\n",
        "plt.show()\n"
      ],
      "metadata": {
        "id": "7N2pd79k8Xwy"
      },
      "execution_count": null,
      "outputs": []
    },
    {
      "cell_type": "markdown",
      "source": [
        "Trips Per Month"
      ],
      "metadata": {
        "id": "LwBlVk1X8al2"
      }
    },
    {
      "cell_type": "code",
      "source": [
        "# 5.3 Trips Per Month\n",
        "plt.figure(figsize=(8,5))\n",
        "sns.countplot(data=df, x='month', palette='Set2')\n",
        "plt.title('Trips per Month')\n",
        "plt.xlabel('Month')\n",
        "plt.ylabel('Number of Trips')\n",
        "plt.show()\n"
      ],
      "metadata": {
        "id": "EIeyswe98c2O"
      },
      "execution_count": null,
      "outputs": []
    },
    {
      "cell_type": "markdown",
      "source": [
        " Trips Per Weekday"
      ],
      "metadata": {
        "id": "Sf8ikd7X8jvc"
      }
    },
    {
      "cell_type": "code",
      "source": [
        "# 5.4 Trips Per Weekday\n",
        "plt.figure(figsize=(8,5))\n",
        "order = ['Monday', 'Tuesday', 'Wednesday', 'Thursday', 'Friday', 'Saturday', 'Sunday']\n",
        "sns.countplot(data=df, x='weekday', order=order)\n",
        "plt.title('Trips per Weekday')\n",
        "plt.xlabel('Weekday')\n",
        "plt.ylabel('Number of Trips')\n",
        "plt.xticks(rotation=45)\n",
        "plt.show()\n"
      ],
      "metadata": {
        "id": "xsoZ70uA8kUj"
      },
      "execution_count": null,
      "outputs": []
    },
    {
      "cell_type": "markdown",
      "source": [
        "Time-Based Patterns"
      ],
      "metadata": {
        "id": "288YKKnQ8qE0"
      }
    },
    {
      "cell_type": "code",
      "source": [
        "# 7.1 Trips Per Hour of Day\n",
        "plt.figure(figsize=(10,6))\n",
        "sns.countplot(data=df, x='hour', palette='coolwarm')\n",
        "plt.title('Trips per Hour of Day')\n",
        "plt.xlabel('Hour')\n",
        "plt.ylabel('Number of Trips')\n",
        "plt.show()\n"
      ],
      "metadata": {
        "id": "O-A7eG4n8sFd"
      },
      "execution_count": null,
      "outputs": []
    },
    {
      "cell_type": "markdown",
      "source": [
        "Answering Specific Questions"
      ],
      "metadata": {
        "id": "1SYeLS4z8wlt"
      }
    },
    {
      "cell_type": "code",
      "source": [
        "# 8.1 Average trip duration\n",
        "avg_duration_sec = df['duration_sec'].mean()\n",
        "avg_duration_min = avg_duration_sec / 60\n",
        "print(f\"✅ Average trip duration is {avg_duration_min:.2f} minutes.\")\n"
      ],
      "metadata": {
        "id": "VK6xN6Ek8xbr"
      },
      "execution_count": null,
      "outputs": []
    },
    {
      "cell_type": "code",
      "source": [
        "# 8.2 Trip Duration by Month (Season Effect)\n",
        "trip_duration_by_month = df.groupby('month')['duration_sec'].mean() / 60  # in minutes\n",
        "print(\"\\n✅ Average Trip Duration (minutes) by Month:\\n\", trip_duration_by_month)\n"
      ],
      "metadata": {
        "id": "lDetudm386KB"
      },
      "execution_count": null,
      "outputs": []
    },
    {
      "cell_type": "code",
      "source": [
        "# 8.3 Trip Duration by User Type\n",
        "trip_duration_by_user = df.groupby('user_type')['duration_sec'].mean() / 60  # in minutes\n",
        "print(\"\\n✅ Average Trip Duration (minutes) by User Type:\\n\", trip_duration_by_user)\n"
      ],
      "metadata": {
        "id": "KNriF9QQ88VF"
      },
      "execution_count": null,
      "outputs": []
    },
    {
      "cell_type": "code",
      "source": [
        "print(\"\\n--- SUMMARY ---\")\n",
        "print(\"1. The average trip duration is approximately {:.2f} minutes.\".format(avg_duration_min))\n",
        "print(\"2. Trip duration varies slightly by month (season effect is weak).\")\n",
        "print(\"3. Customers have longer trip durations than Subscribers.\")\n",
        "print(\"4. Most trips occur during commuting hours (7-9 AM and 4-6 PM).\")\n"
      ],
      "metadata": {
        "id": "d-9pmCrZ9Adq"
      },
      "execution_count": null,
      "outputs": []
    },
    {
      "cell_type": "markdown",
      "source": [
        "### What all manipulations have you done and insights you found?"
      ],
      "metadata": {
        "id": "MSa1f5Uengrz"
      }
    },
    {
      "cell_type": "markdown",
      "source": [
        "Answer Here."
      ],
      "metadata": {
        "id": "LbyXE7I1olp8"
      }
    },
    {
      "cell_type": "markdown",
      "source": [
        "## ***4. Data Vizualization, Storytelling & Experimenting with charts : Understand the relationships between variables***"
      ],
      "metadata": {
        "id": "GF8Ens_Soomf"
      }
    },
    {
      "cell_type": "markdown",
      "source": [
        "#### Chart - 1"
      ],
      "metadata": {
        "id": "0wOQAZs5pc--"
      }
    },
    {
      "cell_type": "code",
      "source": [
        "# Chart - 1 visualization code\n",
        "# Step 1: Import libraries\n",
        "import pandas as pd\n",
        "import matplotlib.pyplot as plt\n",
        "import seaborn as sns\n",
        "\n",
        "# Step 2: Load the dataset\n",
        "df = pd.read_csv('201801-fordgobike-tripdata.csv')  # Replace with your correct file path\n",
        "\n",
        "# Step 3: Chart 1 - Trip Duration Distribution\n",
        "plt.figure(figsize=(10,6))\n",
        "sns.histplot(df['duration_sec']/60, bins=100, kde=True, color='skyblue')  # Converting seconds to minutes\n",
        "plt.title('Distribution of Trip Duration (in Minutes)', fontsize=16)\n",
        "plt.xlabel('Trip Duration (Minutes)', fontsize=12)\n",
        "plt.ylabel('Frequency', fontsize=12)\n",
        "plt.grid(True, linestyle='--', alpha=0.5)\n",
        "plt.show()\n"
      ],
      "metadata": {
        "id": "7v_ESjsspbW7"
      },
      "execution_count": null,
      "outputs": []
    },
    {
      "cell_type": "markdown",
      "source": [
        "##### 1. Why did you pick the specific chart?"
      ],
      "metadata": {
        "id": "K5QZ13OEpz2H"
      }
    },
    {
      "cell_type": "markdown",
      "source": [
        "The histogram of trip duration was chosen because it effectively shows the overall distribution of ride times in the dataset. A histogram provides a clear visual understanding of how often trips of different lengths occur, helping to easily detect patterns, peaks, and outliers in trip durations."
      ],
      "metadata": {
        "id": "XESiWehPqBRc"
      }
    },
    {
      "cell_type": "markdown",
      "source": [
        "##### 2. What is/are the insight(s) found from the chart?"
      ],
      "metadata": {
        "id": "lQ7QKXXCp7Bj"
      }
    },
    {
      "cell_type": "markdown",
      "source": [
        "From the chart, we observe that the majority of trips are relatively short, mostly under 15 minutes. There are very few long-duration trips, and some extreme outliers where trips last several hours. This suggests that most users prefer short commutes or quick rides rather than long-duration cycling."
      ],
      "metadata": {
        "id": "C_j1G7yiqdRP"
      }
    },
    {
      "cell_type": "markdown",
      "source": [
        "##### 3. Will the gained insights help creating a positive business impact?\n",
        "Are there any insights that lead to negative growth? Justify with specific reason."
      ],
      "metadata": {
        "id": "448CDAPjqfQr"
      }
    },
    {
      "cell_type": "markdown",
      "source": [
        "Yes, the insights can help create a positive business impact. Knowing that most users take short trips allows the company to optimize bike redistribution strategies, ensuring that bikes are available where short-distance riders need them most. It can also help in designing short-ride promotional packages or commuter-focused subscription plans, improving customer satisfaction and increasing ridership."
      ],
      "metadata": {
        "id": "3cspy4FjqxJW"
      }
    },
    {
      "cell_type": "markdown",
      "source": [
        "#### Chart - 2"
      ],
      "metadata": {
        "id": "KSlN3yHqYklG"
      }
    },
    {
      "cell_type": "code",
      "source": [
        "# Chart - 2 visualization code\n",
        "# Chart 2: Number of Trips by User Type\n",
        "\n",
        "plt.figure(figsize=(8,5))\n",
        "sns.countplot(data=df, x='user_type', palette='pastel')\n",
        "plt.title('Number of Trips by User Type', fontsize=16)\n",
        "plt.xlabel('User Type', fontsize=12)\n",
        "plt.ylabel('Number of Trips', fontsize=12)\n",
        "plt.grid(axis='y', linestyle='--', alpha=0.7)\n",
        "plt.show()\n"
      ],
      "metadata": {
        "id": "R4YgtaqtYklH"
      },
      "execution_count": null,
      "outputs": []
    },
    {
      "cell_type": "markdown",
      "source": [
        "##### 1. Why did you pick the specific chart?"
      ],
      "metadata": {
        "id": "t6dVpIINYklI"
      }
    },
    {
      "cell_type": "markdown",
      "source": [
        "A count plot was chosen to compare the number of trips between different user types (Subscribers vs Customers) because it is the simplest and clearest way to show categorical comparisons. It allows us to immediately understand which user group is more active in using the service."
      ],
      "metadata": {
        "id": "5aaW0BYyYklI"
      }
    },
    {
      "cell_type": "markdown",
      "source": [
        "##### 2. What is/are the insight(s) found from the chart?"
      ],
      "metadata": {
        "id": "ijmpgYnKYklI"
      }
    },
    {
      "cell_type": "markdown",
      "source": [
        "The chart shows that the number of trips made by Subscribers is significantly higher than those made by Customers. This indicates that most of the Ford GoBike service users are long-term subscribers rather than one-time or casual riders.\n",
        "\n"
      ],
      "metadata": {
        "id": "PSx9atu2YklI"
      }
    },
    {
      "cell_type": "markdown",
      "source": [
        "##### 3. Will the gained insights help creating a positive business impact?\n",
        "Are there any insights that lead to negative growth? Justify with specific reason."
      ],
      "metadata": {
        "id": "-JiQyfWJYklI"
      }
    },
    {
      "cell_type": "markdown",
      "source": [
        "Yes, these insights are valuable for business. Knowing that subscribers dominate trip usage can help the company focus on strategies to retain subscribers while also designing offers or incentives to convert more casual customers into loyal subscribers, thereby increasing long-term revenue."
      ],
      "metadata": {
        "id": "BcBbebzrYklV"
      }
    },
    {
      "cell_type": "markdown",
      "source": [
        "#### Chart - 3"
      ],
      "metadata": {
        "id": "EM7whBJCYoAo"
      }
    },
    {
      "cell_type": "code",
      "source": [
        "# Chart - 3 visualization code\n",
        "# Chart 3: Number of Trips by Day of the Week\n",
        "\n",
        "# First, create a new 'day_of_week' column if not already present\n",
        "df['start_time'] = pd.to_datetime(df['start_time'])\n",
        "df['day_of_week'] = df['start_time'].dt.day_name()\n",
        "\n",
        "# Now plot\n",
        "plt.figure(figsize=(10,6))\n",
        "order = ['Monday', 'Tuesday', 'Wednesday', 'Thursday', 'Friday', 'Saturday', 'Sunday']\n",
        "sns.countplot(data=df, x='day_of_week', order=order, palette='Set2')\n",
        "plt.title('Number of Trips by Day of the Week', fontsize=16)\n",
        "plt.xlabel('Day of Week', fontsize=12)\n",
        "plt.ylabel('Number of Trips', fontsize=12)\n",
        "plt.grid(axis='y', linestyle='--', alpha=0.7)\n",
        "plt.xticks(rotation=45)\n",
        "plt.show()\n"
      ],
      "metadata": {
        "id": "t6GMdE67YoAp"
      },
      "execution_count": null,
      "outputs": []
    },
    {
      "cell_type": "markdown",
      "source": [
        "##### 1. Why did you pick the specific chart?"
      ],
      "metadata": {
        "id": "fge-S5ZAYoAp"
      }
    },
    {
      "cell_type": "markdown",
      "source": [
        "A count plot by day of the week was chosen to understand how bike usage varies across different days. Analyzing usage patterns by weekdays and weekends helps in identifying peak demand periods, which is crucial for operational planning and customer satisfaction.\n",
        "\n"
      ],
      "metadata": {
        "id": "5dBItgRVYoAp"
      }
    },
    {
      "cell_type": "markdown",
      "source": [
        "##### 2. What is/are the insight(s) found from the chart?"
      ],
      "metadata": {
        "id": "85gYPyotYoAp"
      }
    },
    {
      "cell_type": "markdown",
      "source": [
        "The chart reveals that the number of trips is higher on weekdays (especially Tuesday, Wednesday, and Thursday) compared to weekends. This suggests that a majority of users rely on the bike service for weekday commuting, likely to and from work or school.\n",
        "\n"
      ],
      "metadata": {
        "id": "4jstXR6OYoAp"
      }
    },
    {
      "cell_type": "markdown",
      "source": [
        "##### 3. Will the gained insights help creating a positive business impact?\n",
        "Are there any insights that lead to negative growth? Justify with specific reason."
      ],
      "metadata": {
        "id": "RoGjAbkUYoAp"
      }
    },
    {
      "cell_type": "markdown",
      "source": [
        "Yes, these insights are highly useful. Knowing that weekdays see higher usage can help the company allocate more bikes and resources during busy commuting days. Additionally, the company can design weekend promotions to encourage more weekend usage, balancing out the demand and improving overall service utilization."
      ],
      "metadata": {
        "id": "zfJ8IqMcYoAp"
      }
    },
    {
      "cell_type": "markdown",
      "source": [
        "#### Chart - 4"
      ],
      "metadata": {
        "id": "4Of9eVA-YrdM"
      }
    },
    {
      "cell_type": "code",
      "source": [
        "# Chart - 4 visualization code\n",
        "# Chart 4: Number of Trips by Hour of the Day\n",
        "\n",
        "# Extract hour from 'start_time'\n",
        "df['hour_of_day'] = df['start_time'].dt.hour\n",
        "\n",
        "# Now plot\n",
        "plt.figure(figsize=(10,6))\n",
        "sns.countplot(data=df, x='hour_of_day', palette='coolwarm')\n",
        "plt.title('Number of Trips by Hour of the Day', fontsize=16)\n",
        "plt.xlabel('Hour of Day (0-23)', fontsize=12)\n",
        "plt.ylabel('Number of Trips', fontsize=12)\n",
        "plt.grid(axis='y', linestyle='--', alpha=0.7)\n",
        "plt.show()\n"
      ],
      "metadata": {
        "id": "irlUoxc8YrdO"
      },
      "execution_count": null,
      "outputs": []
    },
    {
      "cell_type": "markdown",
      "source": [
        "##### 1. Why did you pick the specific chart?"
      ],
      "metadata": {
        "id": "iky9q4vBYrdO"
      }
    },
    {
      "cell_type": "markdown",
      "source": [
        "A count plot by the hour of the day was selected to analyze the daily trip distribution patterns. It is important to understand at what times users are most active so that the company can optimize bike availability and staffing to match the demand throughout the day."
      ],
      "metadata": {
        "id": "aJRCwT6DYrdO"
      }
    },
    {
      "cell_type": "markdown",
      "source": [
        "##### 2. What is/are the insight(s) found from the chart?"
      ],
      "metadata": {
        "id": "F6T5p64dYrdO"
      }
    },
    {
      "cell_type": "markdown",
      "source": [
        "The chart shows two distinct peaks: one in the morning (around 7–9 AM) and another in the evening (around 4–6 PM). These peaks suggest that users primarily use the service for commuting to and from work or school during rush hours.\n",
        "\n"
      ],
      "metadata": {
        "id": "Xx8WAJvtYrdO"
      }
    },
    {
      "cell_type": "markdown",
      "source": [
        "##### 3. Will the gained insights help creating a positive business impact?\n",
        "Are there any insights that lead to negative growth? Justify with specific reason."
      ],
      "metadata": {
        "id": "y-Ehk30pYrdP"
      }
    },
    {
      "cell_type": "markdown",
      "source": [
        "Yes, the insights are very valuable for business. Understanding peak usage hours helps the company ensure that bikes are well-distributed and available at the right locations during critical commute times. It can also guide dynamic pricing strategies or promotional offers during off-peak hours to boost usage throughout the day.\n",
        "\n"
      ],
      "metadata": {
        "id": "jLNxxz7MYrdP"
      }
    },
    {
      "cell_type": "markdown",
      "source": [
        "#### Chart - 5"
      ],
      "metadata": {
        "id": "bamQiAODYuh1"
      }
    },
    {
      "cell_type": "code",
      "source": [
        "# Chart - 5 visualization code\n",
        "import pandas as pd\n",
        "import matplotlib.pyplot as plt\n",
        "import seaborn as sns\n",
        "\n",
        "# Load the data (you can skip this if already loaded)\n",
        "df = pd.read_csv('201801-fordgobike-tripdata.csv')\n",
        "\n",
        "# Plotting gender breakdown\n",
        "plt.figure(figsize=(8,5))\n",
        "sns.countplot(data=df, x='member_gender', order=df['member_gender'].value_counts().index, palette='Set2')\n",
        "plt.title('Trip Count by Gender')\n",
        "plt.xlabel('Gender')\n",
        "plt.ylabel('Number of Trips')\n",
        "plt.xticks(rotation=0)\n",
        "plt.show()\n",
        "\n"
      ],
      "metadata": {
        "id": "TIJwrbroYuh3"
      },
      "execution_count": null,
      "outputs": []
    },
    {
      "cell_type": "markdown",
      "source": [
        "##### 1. Why did you pick the specific chart?"
      ],
      "metadata": {
        "id": "QHF8YVU7Yuh3"
      }
    },
    {
      "cell_type": "markdown",
      "source": [
        "Answer Here."
      ],
      "metadata": {
        "id": "dcxuIMRPYuh3"
      }
    },
    {
      "cell_type": "markdown",
      "source": [
        "##### 2. What is/are the insight(s) found from the chart?"
      ],
      "metadata": {
        "id": "GwzvFGzlYuh3"
      }
    },
    {
      "cell_type": "markdown",
      "source": [
        "Answer Here"
      ],
      "metadata": {
        "id": "uyqkiB8YYuh3"
      }
    },
    {
      "cell_type": "markdown",
      "source": [
        "##### 3. Will the gained insights help creating a positive business impact?\n",
        "Are there any insights that lead to negative growth? Justify with specific reason."
      ],
      "metadata": {
        "id": "qYpmQ266Yuh3"
      }
    },
    {
      "cell_type": "markdown",
      "source": [
        "Answer Here"
      ],
      "metadata": {
        "id": "_WtzZ_hCYuh4"
      }
    },
    {
      "cell_type": "markdown",
      "source": [
        "#### Chart - 6"
      ],
      "metadata": {
        "id": "OH-pJp9IphqM"
      }
    },
    {
      "cell_type": "code",
      "source": [
        "# Chart - 6 visualization code\n",
        "import pandas as pd\n",
        "import matplotlib.pyplot as plt\n",
        "import seaborn as sns\n",
        "\n",
        "# Load data (if not already loaded)\n",
        "df = pd.read_csv('201801-fordgobike-tripdata.csv')\n",
        "\n",
        "# Find the top 10 start stations\n",
        "top_start_stations = df['start_station_name'].value_counts().head(10)\n",
        "\n",
        "# Plotting\n",
        "plt.figure(figsize=(10,6))\n",
        "sns.barplot(x=top_start_stations.values, y=top_start_stations.index, palette='viridis')\n",
        "plt.title('Top 10 Start Stations by Number of Trips')\n",
        "plt.xlabel('Number of Trips')\n",
        "plt.ylabel('Start Station')\n",
        "plt.show()\n"
      ],
      "metadata": {
        "id": "kuRf4wtuphqN"
      },
      "execution_count": null,
      "outputs": []
    },
    {
      "cell_type": "markdown",
      "source": [
        "##### 1. Why did you pick the specific chart?"
      ],
      "metadata": {
        "id": "bbFf2-_FphqN"
      }
    },
    {
      "cell_type": "markdown",
      "source": [
        "I chose a horizontal bar plot because it clearly displays the number of trips starting at the most popular stations, especially when station names are long.\n",
        "Bar plots are ideal for comparing categorical data like station names, making it easy to visually rank the top locations."
      ],
      "metadata": {
        "id": "loh7H2nzphqN"
      }
    },
    {
      "cell_type": "markdown",
      "source": [
        "##### 2. What is/are the insight(s) found from the chart?"
      ],
      "metadata": {
        "id": "_ouA3fa0phqN"
      }
    },
    {
      "cell_type": "markdown",
      "source": [
        "From the chart, we can observe that:\n",
        "\n",
        "A small group of start stations accounts for a large volume of trips.\n",
        "\n",
        "Certain stations are extremely popular hubs, while others have much lower usage.\n",
        "\n",
        "Popular stations could be located in high-density or high-traffic areas like downtowns, near public transit, or tourist spots."
      ],
      "metadata": {
        "id": "VECbqPI7phqN"
      }
    },
    {
      "cell_type": "markdown",
      "source": [
        "##### 3. Will the gained insights help creating a positive business impact?\n",
        "Are there any insights that lead to negative growth? Justify with specific reason."
      ],
      "metadata": {
        "id": "Seke61FWphqN"
      }
    },
    {
      "cell_type": "markdown",
      "source": [
        "Positive Impact:\n",
        "Yes, these insights help the business optimize bike allocation — placing more bikes at high-demand stations reduces stockouts and improves customer satisfaction.\n",
        "It also informs where to expand service or invest in new stations.\n",
        "\n",
        "Negative Growth Risk:\n",
        "Over-reliance on a few stations could create operational bottlenecks (e.g., frequent rebalancing needed).\n",
        "If unpopular stations are neglected, it might lead to customer dissatisfaction in less busy areas, harming overall brand perception.\n",
        "\n",
        "Specific Reason:\n",
        "Balancing bikes and planning strategic expansions based on these insights ensures better resource usage, lower costs, and higher customer loyalty."
      ],
      "metadata": {
        "id": "DW4_bGpfphqN"
      }
    },
    {
      "cell_type": "markdown",
      "source": [
        "#### Chart - 7"
      ],
      "metadata": {
        "id": "PIIx-8_IphqN"
      }
    },
    {
      "cell_type": "code",
      "source": [
        "# Chart - 7 visualization code\n",
        "import pandas as pd\n",
        "import matplotlib.pyplot as plt\n",
        "import seaborn as sns\n",
        "\n",
        "# Load data (if not already loaded)\n",
        "df = pd.read_csv('201801-fordgobike-tripdata.csv')\n",
        "\n",
        "# Create a \"route\" column combining start and end stations\n",
        "df['route'] = df['start_station_name'] + \" ➔ \" + df['end_station_name']\n",
        "\n",
        "# Find the top 10 most frequent routes\n",
        "top_routes = df['route'].value_counts().head(10)\n",
        "\n",
        "# Plotting\n",
        "plt.figure(figsize=(10,6))\n",
        "sns.barplot(x=top_routes.values, y=top_routes.index, palette='coolwarm')\n",
        "plt.title('Top 10 Most Frequent Routes')\n",
        "plt.xlabel('Number of Trips')\n",
        "plt.ylabel('Route (Start ➔ End)')\n",
        "plt.show()\n"
      ],
      "metadata": {
        "id": "lqAIGUfyphqO"
      },
      "execution_count": null,
      "outputs": []
    },
    {
      "cell_type": "markdown",
      "source": [
        "##### 1. Why did you pick the specific chart?"
      ],
      "metadata": {
        "id": "t27r6nlMphqO"
      }
    },
    {
      "cell_type": "markdown",
      "source": [
        "I chose a horizontal bar plot because it clearly shows the most frequent Start ➔ End station pairs.\n",
        "Routes are categorical and can have long names, so a horizontal layout makes it easier to read and compare the top routes at a glance."
      ],
      "metadata": {
        "id": "iv6ro40sphqO"
      }
    },
    {
      "cell_type": "markdown",
      "source": [
        "##### 2. What is/are the insight(s) found from the chart?"
      ],
      "metadata": {
        "id": "r2jJGEOYphqO"
      }
    },
    {
      "cell_type": "markdown",
      "source": [
        "From the chart, we can observe that:\n",
        "\n",
        "Certain routes are used far more often than others.\n",
        "\n",
        "These popular routes may connect key commuting areas, public transit hubs, or popular city landmarks.\n",
        "\n",
        "The same start station often appears in multiple top routes, indicating important starting hubs."
      ],
      "metadata": {
        "id": "Po6ZPi4hphqO"
      }
    },
    {
      "cell_type": "markdown",
      "source": [
        "##### 3. Will the gained insights help creating a positive business impact?\n",
        "Are there any insights that lead to negative growth? Justify with specific reason."
      ],
      "metadata": {
        "id": "b0JNsNcRphqO"
      }
    },
    {
      "cell_type": "markdown",
      "source": [
        "Positive Impact:\n",
        "Yes, these insights help optimize bike redistribution along busy routes and improve station placement planning.\n",
        "Promotions or incentives can also be offered on popular or underserved routes to boost usage.\n",
        "\n",
        "Negative Growth Risk:\n",
        "Over-focusing only on popular routes could lead to resource neglect in less-trafficked areas.\n",
        "Customers in less popular locations might face shortages or poor service, leading to user dissatisfaction.\n",
        "\n",
        "Specific Reason:\n",
        "Using these insights smartly allows businesses to improve trip success rates, enhance customer experience, and expand smartly into areas with growing demand."
      ],
      "metadata": {
        "id": "xvSq8iUTphqO"
      }
    },
    {
      "cell_type": "markdown",
      "source": [
        "#### Chart - 8"
      ],
      "metadata": {
        "id": "BZR9WyysphqO"
      }
    },
    {
      "cell_type": "code",
      "source": [
        "# Chart - 8 visualization code\n",
        "import pandas as pd\n",
        "import matplotlib.pyplot as plt\n",
        "import seaborn as sns\n",
        "\n",
        "# Load data (if not already loaded)\n",
        "df = pd.read_csv('201801-fordgobike-tripdata.csv')\n",
        "\n",
        "# Convert start_time to datetime (if not already done)\n",
        "df['start_time'] = pd.to_datetime(df['start_time'])\n",
        "\n",
        "# Extract hour from start_time\n",
        "df['start_hour'] = df['start_time'].dt.hour\n",
        "\n",
        "# Count trips per hour\n",
        "trips_per_hour = df['start_hour'].value_counts().sort_index()\n",
        "\n",
        "# Plotting\n",
        "plt.figure(figsize=(10,6))\n",
        "sns.lineplot(x=trips_per_hour.index, y=trips_per_hour.values, marker='o')\n",
        "plt.title('Number of Trips per Hour of the Day')\n",
        "plt.xlabel('Hour of Day (0-23)')\n",
        "plt.ylabel('Number of Trips')\n",
        "plt.xticks(range(0,24))\n",
        "plt.grid(True)\n",
        "plt.show()\n"
      ],
      "metadata": {
        "id": "TdPTWpAVphqO"
      },
      "execution_count": null,
      "outputs": []
    },
    {
      "cell_type": "markdown",
      "source": [
        "##### 1. Why did you pick the specific chart?"
      ],
      "metadata": {
        "id": "jj7wYXLtphqO"
      }
    },
    {
      "cell_type": "markdown",
      "source": [
        "I chose a line plot because it best represents continuous time-based data like trips over the course of a day.\n",
        "It clearly shows peaks and valleys in bike usage across different hours, making it easy to identify patterns."
      ],
      "metadata": {
        "id": "Ob8u6rCTphqO"
      }
    },
    {
      "cell_type": "markdown",
      "source": [
        "##### 2. What is/are the insight(s) found from the chart?"
      ],
      "metadata": {
        "id": "eZrbJ2SmphqO"
      }
    },
    {
      "cell_type": "markdown",
      "source": [
        "From the chart, we can observe that:\n",
        "\n",
        "There are clear peak usage hours, typically around morning (7–9 AM) and evening (5–7 PM) — likely matching commuting times.\n",
        "\n",
        "Usage is relatively lower during midday and late at night.\n",
        "\n",
        "There is a consistent daily rhythm in rider behavior.\n",
        "\n"
      ],
      "metadata": {
        "id": "mZtgC_hjphqO"
      }
    },
    {
      "cell_type": "markdown",
      "source": [
        "##### 3. Will the gained insights help creating a positive business impact?\n",
        "Are there any insights that lead to negative growth? Justify with specific reason."
      ],
      "metadata": {
        "id": "rFu4xreNphqO"
      }
    },
    {
      "cell_type": "markdown",
      "source": [
        "Positive Impact:\n",
        "Yes, understanding peak hours helps in optimizing bike availability and staff scheduling (e.g., for bike maintenance or rebalancing).\n",
        "Targeted promotions can be run during off-peak hours to increase utilization.\n",
        "\n",
        "Negative Growth Risk:\n",
        "If not enough bikes are available during peak demand times, it could lead to customer frustration and lost trips.\n",
        "Poor service during these critical windows could damage user trust.\n",
        "\n",
        "Specific Reason:\n",
        "Using these insights allows businesses to improve operational efficiency, enhance rider satisfaction, and increase overall usage rates by smartly managing supply during different hours.\n",
        "\n"
      ],
      "metadata": {
        "id": "ey_0qi68phqO"
      }
    },
    {
      "cell_type": "markdown",
      "source": [
        "#### Chart - 9"
      ],
      "metadata": {
        "id": "YJ55k-q6phqO"
      }
    },
    {
      "cell_type": "code",
      "source": [
        "# Chart - 9 visualization code\n",
        "import pandas as pd\n",
        "import matplotlib.pyplot as plt\n",
        "import seaborn as sns\n",
        "\n",
        "# Load data (if not already loaded)\n",
        "df = pd.read_csv('201801-fordgobike-tripdata.csv')\n",
        "\n",
        "# Convert start_time to datetime (if not already done)\n",
        "df['start_time'] = pd.to_datetime(df['start_time'])\n",
        "\n",
        "# Extract day of the week (0 = Monday, 6 = Sunday)\n",
        "df['day_of_week'] = df['start_time'].dt.day_name()\n",
        "\n",
        "# Order the days properly\n",
        "day_order = ['Monday', 'Tuesday', 'Wednesday', 'Thursday', 'Friday', 'Saturday', 'Sunday']\n",
        "\n",
        "# Plotting\n",
        "plt.figure(figsize=(10,6))\n",
        "sns.countplot(data=df, x='day_of_week', order=day_order, palette='pastel')\n",
        "plt.title('Number of Trips by Day of the Week')\n",
        "plt.xlabel('Day of Week')\n",
        "plt.ylabel('Number of Trips')\n",
        "plt.xticks(rotation=45)\n",
        "plt.show()\n"
      ],
      "metadata": {
        "id": "B2aS4O1ophqO"
      },
      "execution_count": null,
      "outputs": []
    },
    {
      "cell_type": "markdown",
      "source": [
        "##### 1. Why did you pick the specific chart?"
      ],
      "metadata": {
        "id": "gCFgpxoyphqP"
      }
    },
    {
      "cell_type": "markdown",
      "source": [
        "I chose a count plot (bar plot) because it clearly displays the number of trips on each day of the week, making it easy to compare weekday vs weekend usage patterns.\n",
        "Bar plots work best for categorical comparisons like days.\n",
        "\n"
      ],
      "metadata": {
        "id": "TVxDimi2phqP"
      }
    },
    {
      "cell_type": "markdown",
      "source": [
        "##### 2. What is/are the insight(s) found from the chart?"
      ],
      "metadata": {
        "id": "OVtJsKN_phqQ"
      }
    },
    {
      "cell_type": "markdown",
      "source": [
        "From the chart, we can observe that:\n",
        "\n",
        "Weekdays (Monday to Friday) usually have higher trip counts compared to weekends.\n",
        "\n",
        "There may be spikes midweek (e.g., Tuesday or Thursday) depending on work commuting trends.\n",
        "\n",
        "Weekend usage is generally lower but still significant, possibly indicating leisure trips.\n",
        "\n"
      ],
      "metadata": {
        "id": "ngGi97qjphqQ"
      }
    },
    {
      "cell_type": "markdown",
      "source": [
        "##### 3. Will the gained insights help creating a positive business impact?\n",
        "Are there any insights that lead to negative growth? Justify with specific reason."
      ],
      "metadata": {
        "id": "lssrdh5qphqQ"
      }
    },
    {
      "cell_type": "markdown",
      "source": [
        "Positive Impact:\n",
        "These insights help businesses tailor bike availability — ensuring more bikes and better maintenance on busy weekdays.\n",
        "Marketing campaigns can be designed to boost weekend usage by promoting leisure rides, events, or discounts.\n",
        "\n",
        "Negative Growth Risk:\n",
        "If bike availability is not adjusted for weekday demand peaks, it could lead to user frustration among daily commuters.\n",
        "Ignoring weekend patterns could also miss opportunities for growing casual ridership.\n",
        "\n",
        "Specific Reason:\n",
        "Understanding weekly trip trends allows for better resource management, increased customer satisfaction, and targeted promotions for both workday commuters and weekend leisure riders."
      ],
      "metadata": {
        "id": "tBpY5ekJphqQ"
      }
    },
    {
      "cell_type": "markdown",
      "source": [
        "#### Chart - 10"
      ],
      "metadata": {
        "id": "U2RJ9gkRphqQ"
      }
    },
    {
      "cell_type": "code",
      "source": [
        "# Chart - 10 visualization code\n",
        "import pandas as pd\n",
        "import matplotlib.pyplot as plt\n",
        "import seaborn as sns\n",
        "\n",
        "# Load data (if not already loaded)\n",
        "df = pd.read_csv('201801-fordgobike-tripdata.csv')\n",
        "\n",
        "# Calculate user age from birth year\n",
        "current_year = 2018  # Dataset is from January 2018\n",
        "df['age'] = current_year - df['member_birth_year']\n",
        "\n",
        "# Drop any unrealistic ages (optional, for cleaner plot)\n",
        "df = df[(df['age'] > 10) & (df['age'] < 90)]\n",
        "\n",
        "# Plotting\n",
        "plt.figure(figsize=(10,6))\n",
        "sns.histplot(df['age'], bins=20, kde=True, color='skyblue')\n",
        "plt.title('User Age Distribution')\n",
        "plt.xlabel('Age')\n",
        "plt.ylabel('Number of Users')\n",
        "plt.grid(True)\n",
        "plt.show()\n"
      ],
      "metadata": {
        "id": "GM7a4YP4phqQ"
      },
      "execution_count": null,
      "outputs": []
    },
    {
      "cell_type": "markdown",
      "source": [
        "##### 1. Why did you pick the specific chart?"
      ],
      "metadata": {
        "id": "1M8mcRywphqQ"
      }
    },
    {
      "cell_type": "markdown",
      "source": [
        "I chose a histogram because age is a continuous numerical variable, and histograms are ideal for showing distribution patterns across age ranges.\n",
        "The histogram allows easy identification of the most common age groups among users.\n",
        "\n"
      ],
      "metadata": {
        "id": "8agQvks0phqQ"
      }
    },
    {
      "cell_type": "markdown",
      "source": [
        "##### 2. What is/are the insight(s) found from the chart?"
      ],
      "metadata": {
        "id": "tgIPom80phqQ"
      }
    },
    {
      "cell_type": "markdown",
      "source": [
        "From the chart, we can observe that:\n",
        "\n",
        "Most users are concentrated between the ages of 20 and 40 years old.\n",
        "\n",
        "There is a sharp drop in the number of users after around 50 years old.\n",
        "\n",
        "The service primarily appeals to young and middle-aged adults."
      ],
      "metadata": {
        "id": "Qp13pnNzphqQ"
      }
    },
    {
      "cell_type": "markdown",
      "source": [
        "##### 3. Will the gained insights help creating a positive business impact?\n",
        "Are there any insights that lead to negative growth? Justify with specific reason."
      ],
      "metadata": {
        "id": "JMzcOPDDphqR"
      }
    },
    {
      "cell_type": "markdown",
      "source": [
        "Positive Impact:\n",
        "Yes, knowing the dominant age group helps the business target marketing campaigns more precisely (e.g., focusing on young professionals or university students).\n",
        "It can also help design age-appropriate services like faster app signup or commuter-based features.\n",
        "\n",
        "Negative Growth Risk:\n",
        "Ignoring older age groups could limit market expansion opportunities.\n",
        "If safety and accessibility are not improved, older potential users may never adopt the service.\n",
        "\n",
        "Specific Reason:\n",
        "Insights from age distribution allow businesses to strengthen their brand appeal among current major user groups while also exploring new demographics for growth.\n",
        "\n"
      ],
      "metadata": {
        "id": "R4Ka1PC2phqR"
      }
    },
    {
      "cell_type": "markdown",
      "source": [
        "#### Chart - 11"
      ],
      "metadata": {
        "id": "x-EpHcCOp1ci"
      }
    },
    {
      "cell_type": "code",
      "source": [
        "# Chart - 11 visualization code\n",
        "import pandas as pd\n",
        "import matplotlib.pyplot as plt\n",
        "import seaborn as sns\n",
        "\n",
        "# Load data (if not already loaded)\n",
        "df = pd.read_csv('201801-fordgobike-tripdata.csv')\n",
        "\n",
        "# Trip duration is in seconds. Let's convert it to minutes for better readability.\n",
        "df['trip_duration_min'] = df['duration_sec'] / 60\n",
        "\n",
        "# Optional: Filter out extreme outliers for cleaner plot (e.g., trips longer than 60 minutes)\n",
        "df_filtered = df[df['trip_duration_min'] <= 60]\n",
        "\n",
        "# Plotting\n",
        "plt.figure(figsize=(10,6))\n",
        "sns.histplot(df_filtered['trip_duration_min'], bins=30, color='coral', kde=True)\n",
        "plt.title('Trip Duration Distribution (up to 60 minutes)')\n",
        "plt.xlabel('Trip Duration (Minutes)')\n",
        "plt.ylabel('Number of Trips')\n",
        "plt.grid(True)\n",
        "plt.show()\n"
      ],
      "metadata": {
        "id": "mAQTIvtqp1cj"
      },
      "execution_count": null,
      "outputs": []
    },
    {
      "cell_type": "markdown",
      "source": [
        "##### 1. Why did you pick the specific chart?"
      ],
      "metadata": {
        "id": "X_VqEhTip1ck"
      }
    },
    {
      "cell_type": "markdown",
      "source": [
        "I chose a histogram because trip duration is a continuous numerical variable.\n",
        "Histograms are ideal for understanding the frequency distribution of trip lengths and identifying typical trip times."
      ],
      "metadata": {
        "id": "-vsMzt_np1ck"
      }
    },
    {
      "cell_type": "markdown",
      "source": [
        "##### 2. What is/are the insight(s) found from the chart?"
      ],
      "metadata": {
        "id": "8zGJKyg5p1ck"
      }
    },
    {
      "cell_type": "markdown",
      "source": [
        "From the chart, we can observe that:\n",
        "\n",
        "Most trips are relatively short, typically under 20 minutes.\n",
        "\n",
        "There is a sharp decline in the number of longer trips after 30 minutes.\n",
        "\n",
        "Very few users take trips longer than 45–60 minutes, especially after filtering."
      ],
      "metadata": {
        "id": "ZYdMsrqVp1ck"
      }
    },
    {
      "cell_type": "markdown",
      "source": [
        "##### 3. Will the gained insights help creating a positive business impact?\n",
        "Are there any insights that lead to negative growth? Justify with specific reason."
      ],
      "metadata": {
        "id": "PVzmfK_Ep1ck"
      }
    },
    {
      "cell_type": "markdown",
      "source": [
        "Positive Impact:\n",
        "Yes, knowing the typical trip duration helps in pricing strategy (e.g., setting a base price for 30-minute rides) and fleet management (e.g., quick bike turnover rates).\n",
        "It can also help design membership plans based on common trip lengths.\n",
        "\n",
        "Negative Growth Risk:\n",
        "If the service pricing doesn't match the common trip behavior (e.g., very high charges after 30 minutes), it could discourage longer trips and reduce user satisfaction.\n",
        "\n",
        "Specific Reason:\n",
        "Aligning trip duration insights with pricing, bike availability, and promotions allows businesses to boost usage, maximize revenue, and improve user loyalty."
      ],
      "metadata": {
        "id": "druuKYZpp1ck"
      }
    },
    {
      "cell_type": "markdown",
      "source": [
        "#### Chart - 12"
      ],
      "metadata": {
        "id": "n3dbpmDWp1ck"
      }
    },
    {
      "cell_type": "code",
      "source": [
        "# Chart - 12 visualization code"
      ],
      "metadata": {
        "id": "bwevp1tKp1ck"
      },
      "execution_count": null,
      "outputs": []
    },
    {
      "cell_type": "markdown",
      "source": [
        "##### 1. Why did you pick the specific chart?"
      ],
      "metadata": {
        "id": "ylSl6qgtp1ck"
      }
    },
    {
      "cell_type": "markdown",
      "source": [
        "Answer Here."
      ],
      "metadata": {
        "id": "m2xqNkiQp1ck"
      }
    },
    {
      "cell_type": "markdown",
      "source": [
        "##### 2. What is/are the insight(s) found from the chart?"
      ],
      "metadata": {
        "id": "ZWILFDl5p1ck"
      }
    },
    {
      "cell_type": "markdown",
      "source": [
        "Answer Here"
      ],
      "metadata": {
        "id": "x-lUsV2mp1ck"
      }
    },
    {
      "cell_type": "markdown",
      "source": [
        "##### 3. Will the gained insights help creating a positive business impact?\n",
        "Are there any insights that lead to negative growth? Justify with specific reason."
      ],
      "metadata": {
        "id": "M7G43BXep1ck"
      }
    },
    {
      "cell_type": "markdown",
      "source": [
        "Answer Here"
      ],
      "metadata": {
        "id": "5wwDJXsLp1cl"
      }
    },
    {
      "cell_type": "markdown",
      "source": [
        "#### Chart - 13"
      ],
      "metadata": {
        "id": "Ag9LCva-p1cl"
      }
    },
    {
      "cell_type": "code",
      "source": [
        "# Chart - 13 visualization code\n",
        "import pandas as pd\n",
        "import matplotlib.pyplot as plt\n",
        "\n",
        "# Load data (if not already loaded)\n",
        "df = pd.read_csv('201801-fordgobike-tripdata.csv')\n",
        "\n",
        "# Plotting\n",
        "user_counts = df['user_type'].value_counts()\n",
        "\n",
        "plt.figure(figsize=(8,8))\n",
        "plt.pie(user_counts, labels=user_counts.index, autopct='%1.1f%%', startangle=140, colors=['#66b3ff','#ff9999'])\n",
        "plt.title('Distribution of User Types')\n",
        "plt.axis('equal')  # Equal aspect ratio ensures the pie chart is circular.\n",
        "plt.show()\n"
      ],
      "metadata": {
        "id": "EUfxeq9-p1cl"
      },
      "execution_count": null,
      "outputs": []
    },
    {
      "cell_type": "markdown",
      "source": [
        "##### 1. Why did you pick the specific chart?"
      ],
      "metadata": {
        "id": "E6MkPsBcp1cl"
      }
    },
    {
      "cell_type": "markdown",
      "source": [
        "I chose a pie chart because it is perfect for showing the proportional breakdown of a categorical variable — in this case, the User Type (Subscriber vs Customer).\n",
        "Pie charts visually highlight which category dominates, making it very easy to interpret at a glance."
      ],
      "metadata": {
        "id": "V22bRsFWp1cl"
      }
    },
    {
      "cell_type": "markdown",
      "source": [
        "##### 2. What is/are the insight(s) found from the chart?"
      ],
      "metadata": {
        "id": "2cELzS2fp1cl"
      }
    },
    {
      "cell_type": "markdown",
      "source": [
        "From the pie chart:\n",
        "\n",
        "Subscribers (monthly or annual members) form a large majority of the users.\n",
        "\n",
        "Customers (casual, pay-per-ride users) represent a much smaller proportion of the trips.\n",
        "\n",
        "The business is highly reliant on subscriber loyalty for the majority of its revenue and usage."
      ],
      "metadata": {
        "id": "ozQPc2_Ip1cl"
      }
    },
    {
      "cell_type": "markdown",
      "source": [
        "##### 3. Will the gained insights help creating a positive business impact?\n",
        "Are there any insights that lead to negative growth? Justify with specific reason."
      ],
      "metadata": {
        "id": "3MPXvC8up1cl"
      }
    },
    {
      "cell_type": "markdown",
      "source": [
        "Positive Impact:\n",
        "Knowing that subscribers dominate usage allows the company to focus marketing and retention strategies on them — such as loyalty rewards, membership discounts, or referral bonuses.\n",
        "It also shows that a stable recurring revenue model exists, which is very good for financial planning.\n",
        "\n",
        "Negative Growth Risk:\n",
        "However, over-relying on subscribers without growing casual riders can limit overall growth.\n",
        "Casual riders represent an opportunity — especially tourists or occasional users — to expand the customer base if targeted properly (e.g., special weekend or event promotions).\n",
        "\n",
        "Specific Reason:\n",
        "Focusing solely on retaining subscribers is smart but expanding casual user growth could unlock new revenue streams and reduce dependency on one customer group."
      ],
      "metadata": {
        "id": "GL8l1tdLp1cl"
      }
    },
    {
      "cell_type": "markdown",
      "source": [
        "#### Chart - 14 - Correlation Heatmap"
      ],
      "metadata": {
        "id": "NC_X3p0fY2L0"
      }
    },
    {
      "cell_type": "code",
      "source": [
        "# Correlation Heatmap visualization code\n",
        "# Calculate correlation matrix\n",
        "corr = pairplot_df.corr()\n",
        "\n",
        "# Plotting\n",
        "plt.figure(figsize=(8,6))\n",
        "sns.heatmap(corr, annot=True, cmap='coolwarm', linewidths=0.5, fmt='.2f')\n",
        "plt.title('Correlation Heatmap')\n",
        "plt.show()\n"
      ],
      "metadata": {
        "id": "xyC9zolEZNRQ"
      },
      "execution_count": null,
      "outputs": []
    },
    {
      "cell_type": "markdown",
      "source": [
        "##### 1. Why did you pick the specific chart?"
      ],
      "metadata": {
        "id": "UV0SzAkaZNRQ"
      }
    },
    {
      "cell_type": "markdown",
      "source": [
        "I selected a correlation heatmap because it is an excellent tool for visualizing the strength and direction of linear relationships between multiple numerical variables at once.\n",
        "It helps quickly identify which variables are positively or negatively correlated, and how strong those relationships are — which can guide deeper analysis or feature selection later."
      ],
      "metadata": {
        "id": "DVPuT8LYZNRQ"
      }
    },
    {
      "cell_type": "markdown",
      "source": [
        "##### 2. What is/are the insight(s) found from the chart?"
      ],
      "metadata": {
        "id": "YPEH6qLeZNRQ"
      }
    },
    {
      "cell_type": "markdown",
      "source": [
        "From the heatmap:\n",
        "\n",
        "There is a slight negative correlation between age and trip duration — indicating that younger users tend to take slightly longer trips compared to older users.\n",
        "\n",
        "There is almost no strong correlation between start hour and trip duration, suggesting that trip length is fairly consistent across different times of day.\n",
        "\n",
        "Overall, the correlations are weak to moderate, meaning no two features are extremely dependent on each other, and each variable brings its own unique information."
      ],
      "metadata": {
        "id": "bfSqtnDqZNRR"
      }
    },
    {
      "cell_type": "markdown",
      "source": [
        "#### Chart - 15 - Pair Plot"
      ],
      "metadata": {
        "id": "q29F0dvdveiT"
      }
    },
    {
      "cell_type": "code",
      "source": [
        "# Pair Plot visualization code\n",
        "import pandas as pd\n",
        "import seaborn as sns\n",
        "import matplotlib.pyplot as plt\n",
        "\n",
        "# Load data (if not already loaded)\n",
        "df = pd.read_csv('201801-fordgobike-tripdata.csv')\n",
        "\n",
        "# Prepare a smaller dataframe for pairplot (only numeric features)\n",
        "df['start_time'] = pd.to_datetime(df['start_time'])\n",
        "df['start_hour'] = df['start_time'].dt.hour\n",
        "df['age'] = 2018 - df['member_birth_year']\n",
        "df['trip_duration_min'] = df['duration_sec'] / 60\n",
        "\n",
        "# Selecting relevant columns\n",
        "pairplot_df = df[['trip_duration_min', 'start_hour', 'age']]\n",
        "\n",
        "# Optional: Clean unrealistic ages\n",
        "pairplot_df = pairplot_df[(pairplot_df['age'] > 10) & (pairplot_df['age'] < 90)]\n",
        "\n",
        "# Plotting\n",
        "sns.pairplot(pairplot_df, diag_kind='kde', corner=True, palette='husl')\n",
        "plt.suptitle('Pairplot of Trip Duration, Start Hour, and Age', y=1.02)\n",
        "plt.show()\n"
      ],
      "metadata": {
        "id": "o58-TEIhveiU"
      },
      "execution_count": null,
      "outputs": []
    },
    {
      "cell_type": "markdown",
      "source": [
        "##### 1. Why did you pick the specific chart?"
      ],
      "metadata": {
        "id": "EXh0U9oCveiU"
      }
    },
    {
      "cell_type": "markdown",
      "source": [
        "I chose a pair plot because it is ideal for visualizing relationships between multiple numerical variables all at once.\n",
        "It helps to identify trends, clusters, correlations, and potential outliers quickly through scatter plots and distribution plots, providing a complete overview in a single figure.\n",
        "\n"
      ],
      "metadata": {
        "id": "eMmPjTByveiU"
      }
    },
    {
      "cell_type": "markdown",
      "source": [
        "##### 2. What is/are the insight(s) found from the chart?"
      ],
      "metadata": {
        "id": "22aHeOlLveiV"
      }
    },
    {
      "cell_type": "markdown",
      "source": [
        "From the pair plot:\n",
        "\n",
        "There is a slight negative trend between age and trip duration, showing that younger users generally tend to have slightly longer trips.\n",
        "\n",
        "The start hour does not show a strong direct relationship with trip duration, but the density plots suggest that peak activity happens around commute hours (morning and evening).\n",
        "\n",
        "Age distribution is skewed toward younger adults, which aligns with the findings from previous visualizations."
      ],
      "metadata": {
        "id": "uPQ8RGwHveiV"
      }
    },
    {
      "cell_type": "markdown",
      "source": [
        "## **5. Solution to Business Objective**"
      ],
      "metadata": {
        "id": "JcMwzZxoAimU"
      }
    },
    {
      "cell_type": "markdown",
      "source": [
        "#### What do you suggest the client to achieve Business Objective ?\n",
        "\n",
        "Focus on High-Demand Areas and Times:\n",
        "\n",
        "Since specific routes and stations have higher usage, focus bike redistribution efforts there.\n",
        "\n",
        "Optimize bike availability during peak hours (morning and evening commute times) to avoid lost revenue and customer frustration.\n",
        "\n",
        "Target the Core Customer Demographic:\n",
        "\n",
        "Most users are aged 20–40 years, mainly using bikes on weekdays.\n",
        "\n",
        "Marketing campaigns should be focused on young professionals and daily commuters (e.g., discounts on monthly memberships).\n",
        "\n",
        "Increase Weekend and Off-Peak Usage:\n",
        "\n",
        "Create special promotions (e.g., group rides, weekend passes) to boost usage during lower demand times like weekends and midday hours.\n",
        "\n",
        "Partner with tourism companies, parks, or local businesses for weekend deals.\n",
        "\n",
        "Customize Pricing and Plans Based on Trip Behavior:\n",
        "\n",
        "Since most trips are short (~15–20 min), offer affordable short trip pricing options.\n",
        "\n",
        "Encourage longer trips with discounted hourly packages or day passes.\n",
        "\n",
        "Expand Services for Older Age Groups:\n",
        "\n",
        "Although the core users are younger, there’s an opportunity to grow by making bikes more accessible (e.g., easier-to-ride models, clear safety info).\n",
        "\n",
        "Inclusive marketing can help tap into older users who might want leisure rides.\n",
        "\n",
        "Continuous Monitoring and Flexibility:\n",
        "\n",
        "Regularly analyze trip trends (routes, durations, times) to adjust services dynamically.\n",
        "\n",
        "Use predictive analytics to anticipate peak demands, weather-based variations, and special event impacts."
      ],
      "metadata": {
        "id": "8G2x9gOozGDZ"
      }
    },
    {
      "cell_type": "markdown",
      "source": [
        "# **Conclusion**"
      ],
      "metadata": {
        "id": "gCX9965dhzqZ"
      }
    },
    {
      "cell_type": "markdown",
      "source": [
        "Through detailed exploratory data analysis (EDA) of the Ford GoBike dataset, we uncovered key user behaviors and operational patterns.\n",
        "The analysis showed that most bike rides are taken by users aged 20–40 years, primarily during weekday commute hours (morning and evening).\n",
        "Popular routes and key hubs were identified, showing that strategic station management and bike redistribution are critical.\n",
        "Additionally, trip durations are mostly short (under 20 minutes), suggesting that the current pricing model should support short, frequent rides while offering incentives for longer usage.\n",
        "\n",
        "Based on the findings, Ford GoBike can achieve its business objectives by:\n",
        "\n",
        "Optimizing fleet management during peak hours,\n",
        "\n",
        "Targeting marketing towards core user demographics,\n",
        "\n",
        "Expanding weekend and leisure usage,\n",
        "\n",
        "Adjusting pricing plans to match trip behavior, and\n",
        "\n",
        "Exploring new customer segments such as older riders.\n",
        "\n",
        "By aligning operations, marketing, and pricing strategies with actual user behavior, Ford GoBike can enhance customer satisfaction, increase trip frequency, and drive sustainable business growth."
      ],
      "metadata": {
        "id": "Fjb1IsQkh3yE"
      }
    },
    {
      "cell_type": "markdown",
      "source": [
        "### ***Hurrah! You have successfully completed your EDA Capstone Project !!!***"
      ],
      "metadata": {
        "id": "gIfDvo9L0UH2"
      }
    }
  ]
}